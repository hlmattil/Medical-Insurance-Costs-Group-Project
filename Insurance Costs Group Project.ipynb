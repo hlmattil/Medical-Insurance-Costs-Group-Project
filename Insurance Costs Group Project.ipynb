{
 "cells": [
  {
   "cell_type": "markdown",
   "id": "154101bd",
   "metadata": {},
   "source": [
    "### Insurance Charges Group Project\n",
    "#### Completed 20. April 2022 by Fernando Masci (fernando.j.masci@gmail.com), Hannah M. (hannah.l.mattil@gmail.com)\n",
    "\n",
    "This project takes a given CSV file with health data and insurance costs and analyzes that data using SQL and Python. "
   ]
  },
  {
   "cell_type": "markdown",
   "id": "e80a24f5",
   "metadata": {},
   "source": [
    "#### Step 1. \n",
    "\n",
    "Import packages, create an SQL connection to the database, create a table in the database and populate it with the values from the CSV file. \n"
   ]
  },
  {
   "cell_type": "code",
   "execution_count": 1,
   "id": "0b961902",
   "metadata": {},
   "outputs": [],
   "source": [
    "import sqlite3, csv\n",
    "import pandas as pd\n",
    "\n",
    "conn = sqlite3.connect('insurance.db')\n",
    "cursor = conn.cursor()\n",
    "#cursor.execute(\"\"\"CREATE TABLE insurance_costs(\n",
    " #               age integer, \n",
    "  #              sex text, \n",
    "   #             bmi real, \n",
    "    #            children integer, \n",
    "     #           smoker text, \n",
    "      #          region text, \n",
    "       #         charges float\n",
    "        #        )\"\"\")\"\"\"\n",
    "\n",
    "#with open('insurance.csv','r') as insurance_csv:\n",
    "#    csv_reader = csv.reader(insurance_csv)\n",
    " #   for row in csv_reader:\n",
    "  #      cursor.execute(\"\"\" INSERT INTO insurance_costs (age, sex, bmi, children, smoker, region, charges)\n",
    "   #                     VALUES (?,?,?,?,?,?,?)\"\"\"\n",
    "    #                    ,(row[0], row[1], row[2], row[3], row[4], row[5], row[6])\n",
    "     #             )\n",
    "#conn.commit()\"\"\""
   ]
  },
  {
   "cell_type": "markdown",
   "id": "2c011e28",
   "metadata": {},
   "source": [
    "#### Step 2.\n",
    "Execute a command using SQL which creates a new column in the table to determine an individual's weight classification based on BMI. \n",
    "Create a bar graph to show the distribution of weight classes in the data set. "
   ]
  },
  {
   "cell_type": "code",
   "execution_count": 2,
   "id": "0cddf1d7",
   "metadata": {},
   "outputs": [
    {
     "data": {
      "image/png": "[encoded data removed]",
      "text/plain": [
       "<Figure size 432x288 with 1 Axes>"
      ]
     },
     "metadata": {
      "needs_background": "light"
     },
     "output_type": "display_data"
    }
   ],
   "source": [
    "cursor.execute(\"\"\"SELECT * ,\n",
    "CASE\n",
    "    WHEN bmi <= 18.499 THEN 'Underweight'\n",
    "    WHEN bmi BETWEEN 18.5 AND 24.999 THEN 'Normal weight'\n",
    "    WHEN bmi BETWEEN 25 AND 29.999 THEN 'Overweight'\n",
    "    WHEN bmi >= 30 THEN 'Obesity'\n",
    "END AS weight\n",
    "FROM insurance_costs\n",
    "ORDER BY charges DESC;\"\"\")\n",
    "weight_class = cursor.fetchall()\n",
    "\n",
    "obese = 0\n",
    "overweight = 0\n",
    "normal_weight = 0\n",
    "underweight = 0\n",
    "\n",
    "for row in weight_class:\n",
    "    if row[7] == 'Obesity':\n",
    "        obese+=1\n",
    "    elif row[7] == 'Overweight':\n",
    "        overweight+=1\n",
    "    elif row[7] == 'Normal weight':\n",
    "        normal_weight+=1\n",
    "    elif row[7] == 'Underweight':\n",
    "        underweight+=1\n",
    "\n",
    "df = pd.DataFrame({'Weight Classifications':['Underweight', 'Normal Weight', 'Overweight', 'Obese'], 'Number of People':[underweight, normal_weight, overweight, obese]})\n",
    "ax = df.plot.bar(x='Weight Classifications', y='Number of People', rot=0)\n"
   ]
  },
  {
   "cell_type": "markdown",
   "id": "560db485",
   "metadata": {},
   "source": [
    "#### Step 3.\n",
    "Use SQL to calculate the average insurance costs for men and women, use python to print those costs and to calculate the difference between men and women's costs. "
   ]
  },
  {
   "cell_type": "code",
   "execution_count": 32,
   "id": "76db3d91",
   "metadata": {},
   "outputs": [
    {
     "name": "stdout",
     "output_type": "stream",
     "text": [
      "Female smokers pay on average $30679.0 for health insurance, whereas male smokers pay on average $33042.01. \n",
      "On average, male smokers pay $2363.01 more than female smokers for health insurance\n"
     ]
    }
   ],
   "source": [
    "cursor.execute(\"\"\"SELECT AVG(charges)\n",
    "FROM insurance_costs\n",
    "WHERE sex LIKE 'female'\n",
    "AND smoker LIKE 'yes';\"\"\")\n",
    "avg_female_costs = cursor.fetchone()\n",
    "\n",
    "cursor.execute(\"\"\"SELECT AVG(charges)\n",
    "FROM insurance_costs\n",
    "WHERE sex LIKE 'male'\n",
    "AND smoker LIKE 'yes';\"\"\")\n",
    "avg_male_costs = cursor.fetchone()\n",
    "\n",
    "print(\"Female smokers pay on average ${} for health insurance, whereas male smokers pay on average ${}. \".format(round(avg_female_costs[0],2), round(avg_male_costs[0],2)))\n",
    "      \n",
    "print(\"On average, male smokers pay ${} more than female smokers for health insurance\".format(round(avg_male_costs[0] - avg_female_costs[0],2)))\n"
   ]
  },
  {
   "cell_type": "markdown",
   "id": "3e2007e5",
   "metadata": {},
   "source": [
    "#### Step 4.\n",
    "Use SQL to find how many men and women pay more than the average for health insurance. "
   ]
  },
  {
   "cell_type": "code",
   "execution_count": 23,
   "id": "9424f2e9",
   "metadata": {},
   "outputs": [],
   "source": [
    "cursor.execute(\"\"\"SELECT count(sex), sex\n",
    "FROM insurance_costs\n",
    "WHERE charges >= 13270.4222651413\n",
    "GROUP BY sex;\"\"\")\n",
    "overpayers = cursor.fetchall()\n",
    "male_overpayer = overpayers[1][0]\n",
    "female_overpayer = overpayers[0][0]\n",
    "\n",
    "print(\"{} females pay more for insurance than the overall average, while {} men pay more than the average. \".format(female_overpayer, male_overpayer))\n",
    " "
   ]
  },
  {
   "cell_type": "code",
   "execution_count": 40,
   "id": "c4c59a37",
   "metadata": {},
   "outputs": [
    {
     "data": {
      "text/plain": [
       "('age',\n",
       " 'sex',\n",
       " 'bmi',\n",
       " 'children',\n",
       " 'smoker',\n",
       " 'region',\n",
       " 'charges',\n",
       " 13260.511568901418)"
      ]
     },
     "execution_count": 40,
     "metadata": {},
     "output_type": "execute_result"
    }
   ],
   "source": [
    "cursor.execute(\"\"\"SELECT *, avg(charges)\n",
    "FROM insurance_costs\"\"\")\n",
    "cursor.fetchone()"
   ]
  },
  {
   "cell_type": "code",
   "execution_count": null,
   "id": "0166745d",
   "metadata": {},
   "outputs": [],
   "source": [
    "conn.close()"
   ]
  }
 ],
 "metadata": {
  "kernelspec": {
   "display_name": "Python 3 (ipykernel)",
   "language": "python",
   "name": "python3"
  },
  "language_info": {
   "codemirror_mode": {
    "name": "ipython",
    "version": 3
   },
   "file_extension": ".py",
   "mimetype": "text/x-python",
   "name": "python",
   "nbconvert_exporter": "python",
   "pygments_lexer": "ipython3",
   "version": "3.9.5"
  }
 },
 "nbformat": 4,
 "nbformat_minor": 5
}
